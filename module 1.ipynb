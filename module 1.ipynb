{
 "cells": [
  {
   "cell_type": "markdown",
   "id": "bc1eefab",
   "metadata": {},
   "source": [
    "Module 1"
   ]
  },
  {
   "cell_type": "markdown",
   "id": "cde8d005",
   "metadata": {},
   "source": [
    "Q-1 Software is a set of instructions, data, or programs that tell a computer how to function. It includes all the different programs on a computer, such as applications and the operating system."
   ]
  },
  {
   "cell_type": "markdown",
   "id": "4ebeca62",
   "metadata": {},
   "source": [
    "Q-2 -Database apps.\n",
    "    -Custom apps.\n",
    "    -Web-based apps.\n",
    "    -Low code apps.\n",
    "    -No code apps.\n",
    "    -Enterprise apps."
   ]
  },
  {
   "cell_type": "markdown",
   "id": "b990d2c3",
   "metadata": {},
   "source": [
    "Q-3 Programming is the process of creating instructions for a computer to follow. These instructions are called programs. Programmers use programming languages to write code."
   ]
  },
  {
   "cell_type": "markdown",
   "id": "bf51f787",
   "metadata": {},
   "source": [
    "Q-4 Python is a high-level, general-purpose programming language. Its design philosophy emphasizes code readability with its notable use of significant whitespace. Its language constructs and object-oriented approach aim to help programmers write clear, logical code for small and large-scale projects."
   ]
  },
  {
   "cell_type": "markdown",
   "id": "7b25925d",
   "metadata": {},
   "source": [
    "Module 2"
   ]
  },
  {
   "cell_type": "markdown",
   "id": "868a34a4",
   "metadata": {},
   "source": [
    "Q-1"
   ]
  },
  {
   "cell_type": "code",
   "execution_count": 12,
   "id": "1714706c",
   "metadata": {},
   "outputs": [
    {
     "name": "stdout",
     "output_type": "stream",
     "text": [
      "Enter a no. :-100\n",
      "negative\n"
     ]
    }
   ],
   "source": [
    "a=int(input(\"Enter a no. :\"))\n",
    "if a>0:\n",
    " print(\"positive\")\n",
    "elif a<0:\n",
    "    print(\"negative\")\n",
    "else: \n",
    "    print(\"zero\")"
   ]
  },
  {
   "cell_type": "markdown",
   "id": "6098e70e",
   "metadata": {},
   "source": [
    "Q-2"
   ]
  },
  {
   "cell_type": "code",
   "execution_count": 5,
   "id": "984db3ec",
   "metadata": {},
   "outputs": [
    {
     "name": "stdout",
     "output_type": "stream",
     "text": [
      "Enter a number:10\n",
      "The factorial of 10 is 3628800\n"
     ]
    }
   ],
   "source": [
    "num=int(input(\"Enter a number:\"))\n",
    "factorial=1\n",
    "if num<0:\n",
    "    print(\"Factorial not exist for negative values\")\n",
    "elif num==0:\n",
    "    print(\"Factorial of 0 is 1\")\n",
    "else:\n",
    "    for i in range(1,num+1):\n",
    "        factorial=factorial*i\n",
    "    print(\"The factorial of\", num ,\"is\", factorial) \n",
    "        "
   ]
  },
  {
   "cell_type": "markdown",
   "id": "b12f83d3",
   "metadata": {},
   "source": [
    "  Q-3"
   ]
  },
  {
   "cell_type": "code",
   "execution_count": 2,
   "id": "3e52dbb7",
   "metadata": {},
   "outputs": [
    {
     "name": "stdout",
     "output_type": "stream",
     "text": [
      "enter number4\n"
     ]
    },
    {
     "ename": "NameError",
     "evalue": "name 'a' is not defined",
     "output_type": "error",
     "traceback": [
      "\u001b[1;31m---------------------------------------------------------------------------\u001b[0m",
      "\u001b[1;31mNameError\u001b[0m                                 Traceback (most recent call last)",
      "Cell \u001b[1;32mIn[2], line 3\u001b[0m\n\u001b[0;32m      1\u001b[0m i\u001b[38;5;241m=\u001b[39m\u001b[38;5;28mint\u001b[39m(\u001b[38;5;28minput\u001b[39m(\u001b[38;5;124m\"\u001b[39m\u001b[38;5;124menter number\u001b[39m\u001b[38;5;124m\"\u001b[39m))\n\u001b[0;32m      2\u001b[0m \u001b[38;5;28;01mwhile\u001b[39;00m i\u001b[38;5;241m>\u001b[39m\u001b[38;5;241m0\u001b[39m:\n\u001b[1;32m----> 3\u001b[0m     c\u001b[38;5;241m=\u001b[39ma\u001b[38;5;241m+\u001b[39mb\n\u001b[0;32m      4\u001b[0m     \u001b[38;5;28mprint\u001b[39m(\u001b[38;5;124mf\u001b[39m\u001b[38;5;124m'\u001b[39m\u001b[38;5;124m \u001b[39m\u001b[38;5;132;01m{\u001b[39;00mc\u001b[38;5;132;01m}\u001b[39;00m\u001b[38;5;124m'\u001b[39m)\n\u001b[0;32m      5\u001b[0m     a\u001b[38;5;241m=\u001b[39mb\n",
      "\u001b[1;31mNameError\u001b[0m: name 'a' is not defined"
     ]
    }
   ],
   "source": [
    "i=int(input(\"enter number\"))\n",
    "while i>0:\n",
    "    c=a+b\n",
    "    print(f' {c}')\n",
    "    a=b\n",
    "    b=c\n",
    "    i+=1"
   ]
  },
  {
   "cell_type": "markdown",
   "id": "1a85e3d5",
   "metadata": {},
   "source": [
    "Q-4 As we know, Python uses the dynamic memory allocation which is managed by the Heap data structure. Memory Heap holds the objects and other data structures that will be used in the program. Python memory manager manages the allocation or de-allocation of the heap memory space through the API functions."
   ]
  },
  {
   "cell_type": "markdown",
   "id": "aea3a5f9",
   "metadata": {},
   "source": [
    "Q-5 The continue statement in Python is used to skip the remaining code or igone the particular number inside a loop for the current iteration only."
   ]
  },
  {
   "cell_type": "markdown",
   "id": "650b4c34",
   "metadata": {},
   "source": [
    "Q-7"
   ]
  },
  {
   "cell_type": "code",
   "execution_count": 19,
   "id": "6f4e3252",
   "metadata": {},
   "outputs": [
    {
     "name": "stdout",
     "output_type": "stream",
     "text": [
      "Enter a no. :5\n",
      "your no. is odd\n"
     ]
    }
   ],
   "source": [
    "n=int(input(\"Enter a no. :\"))\n",
    "if n%2==0:\n",
    "    print(\"your no. is even\")\n",
    "else:\n",
    "    print(\"your no. is odd\")"
   ]
  },
  {
   "cell_type": "markdown",
   "id": "fb40f522",
   "metadata": {},
   "source": [
    "Q-8"
   ]
  },
  {
   "cell_type": "code",
   "execution_count": 17,
   "id": "90a50892",
   "metadata": {},
   "outputs": [
    {
     "name": "stdout",
     "output_type": "stream",
     "text": [
      "Enter a alphabet:u\n",
      "vowel\n"
     ]
    }
   ],
   "source": [
    "v=str(input(\"Enter a alphabet:\"))\n",
    "if v==\"a\":\n",
    "    print(\"vowel\")\n",
    "elif v==\"e\":\n",
    "    print(\"vowel\")\n",
    "elif v==\"i\":\n",
    "    print(\"vowel\")\n",
    "elif v==\"o\":\n",
    "    print(\"vowel\")  \n",
    "elif v==\"u\":\n",
    "    print(\"vowel\")\n",
    "else:\n",
    "    print(\"Consonent\")\n",
    "  \n",
    "    "
   ]
  },
  {
   "cell_type": "markdown",
   "id": "dd1994b2",
   "metadata": {},
   "source": [
    "Q-9"
   ]
  },
  {
   "cell_type": "code",
   "execution_count": 7,
   "id": "a4d76282",
   "metadata": {},
   "outputs": [
    {
     "name": "stdout",
     "output_type": "stream",
     "text": [
      "13\n",
      "0\n",
      "17\n"
     ]
    }
   ],
   "source": [
    "def sum(x,y,z):\n",
    "    if x==y or y==z or x==z:\n",
    "        sum=0\n",
    "    else:\n",
    "        sum=x+y+z\n",
    "    return sum\n",
    "print(sum(6,2,5))\n",
    "print(sum(2,3,2))\n",
    "print(sum(8,9,0))"
   ]
  },
  {
   "cell_type": "markdown",
   "id": "fd8af4b3",
   "metadata": {},
   "source": [
    "Q-10"
   ]
  },
  {
   "cell_type": "code",
   "execution_count": null,
   "id": "edff4be5",
   "metadata": {},
   "outputs": [],
   "source": []
  },
  {
   "cell_type": "markdown",
   "id": "76f6da93",
   "metadata": {},
   "source": [
    "Q-11"
   ]
  },
  {
   "cell_type": "code",
   "execution_count": null,
   "id": "f51f1cac",
   "metadata": {},
   "outputs": [],
   "source": []
  },
  {
   "cell_type": "markdown",
   "id": "6f52b07c",
   "metadata": {},
   "source": [
    "Q-12"
   ]
  },
  {
   "cell_type": "code",
   "execution_count": 6,
   "id": "b4fe14f6",
   "metadata": {},
   "outputs": [
    {
     "name": "stdout",
     "output_type": "stream",
     "text": [
      "6\n"
     ]
    }
   ],
   "source": [
    "z=\"python\"\n",
    "print(len(z))"
   ]
  },
  {
   "cell_type": "markdown",
   "id": "19e6417c",
   "metadata": {},
   "source": [
    "Q-13\n"
   ]
  },
  {
   "cell_type": "code",
   "execution_count": 14,
   "id": "2b5f65fc",
   "metadata": {},
   "outputs": [
    {
     "name": "stdout",
     "output_type": "stream",
     "text": [
      "1\n"
     ]
    }
   ],
   "source": [
    "t=\"vansh kanani\"\n",
    "print(t.count(t))"
   ]
  },
  {
   "cell_type": "markdown",
   "id": "77df0543",
   "metadata": {},
   "source": [
    "Q-14 Negative indexing is used in Python to manipulate sequence objects such as lists, arrays, strings, etc. Negative indexing retrieves elements from the end by providing negative numbers as sequence indexes.\n"
   ]
  },
  {
   "cell_type": "code",
   "execution_count": null,
   "id": "4495d1f9",
   "metadata": {},
   "outputs": [],
   "source": []
  }
 ],
 "metadata": {
  "kernelspec": {
   "display_name": "Python 3 (ipykernel)",
   "language": "python",
   "name": "python3"
  },
  "language_info": {
   "codemirror_mode": {
    "name": "ipython",
    "version": 3
   },
   "file_extension": ".py",
   "mimetype": "text/x-python",
   "name": "python",
   "nbconvert_exporter": "python",
   "pygments_lexer": "ipython3",
   "version": "3.11.4"
  }
 },
 "nbformat": 4,
 "nbformat_minor": 5
}
