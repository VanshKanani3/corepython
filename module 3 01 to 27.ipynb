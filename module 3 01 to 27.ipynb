{
 "cells": [
  {
   "cell_type": "code",
   "execution_count": 10,
   "id": "ba0e4293",
   "metadata": {},
   "outputs": [
    {
     "data": {
      "text/plain": [
       "['raj', 'vansh', 'darshak', 'dev']"
      ]
     },
     "execution_count": 10,
     "metadata": {},
     "output_type": "execute_result"
    }
   ],
   "source": [
    "#2)How will you remove last object from a list?\n",
    "\n",
    "l1=[\"raj\",\"vansh\",\"darshak\",\"dev\",\"rishi\"]\n",
    "l1.remove(\"rishi\")\n",
    "\n",
    "\n",
    "l1"
   ]
  },
  {
   "cell_type": "code",
   "execution_count": 11,
   "id": "51eee8b0",
   "metadata": {},
   "outputs": [
    {
     "name": "stdout",
     "output_type": "stream",
     "text": [
      "[78, 56, 34, 21, 1]\n"
     ]
    }
   ],
   "source": [
    "#1) reverse method\n",
    "\n",
    "\n",
    "l1=[1,21,34,56,78]\n",
    "l1.reverse()\n",
    "\n",
    "print(l1)\n"
   ]
  },
  {
   "cell_type": "code",
   "execution_count": 12,
   "id": "5d3add62",
   "metadata": {},
   "outputs": [
    {
     "data": {
      "text/plain": [
       "25"
      ]
     },
     "execution_count": 12,
     "metadata": {},
     "output_type": "execute_result"
    }
   ],
   "source": [
    "#3)Suppose list1 is [2, 33, 222, 14, and 25], what is list1 [-1]?\n",
    "\n",
    "l1=[2,33,222,14,25]\n",
    "\n",
    "p=(l1[-1])\n",
    "\n",
    "p\n",
    "\n"
   ]
  },
  {
   "cell_type": "code",
   "execution_count": 13,
   "id": "9b7f4958",
   "metadata": {},
   "outputs": [
    {
     "data": {
      "text/plain": [
       "[22, 400.5, 'vansh', True, [44, 66], 56]"
      ]
     },
     "execution_count": 13,
     "metadata": {},
     "output_type": "execute_result"
    }
   ],
   "source": [
    "#4)Differentiate between append () and extend () methods? add the values\n",
    "\n",
    "#ex: append\n",
    "\n",
    "l1=[22,400.5,'vansh',True,[44,66]]\n",
    "l1.append(56)\n",
    "\n",
    "l1"
   ]
  },
  {
   "cell_type": "code",
   "execution_count": 14,
   "id": "8aa22571",
   "metadata": {},
   "outputs": [
    {
     "data": {
      "text/plain": [
       "[22, 400.5, 'vansh', True, [44, 66], 56, 'a', 33]"
      ]
     },
     "execution_count": 14,
     "metadata": {},
     "output_type": "execute_result"
    }
   ],
   "source": [
    "#ex: exrend , remove the values\n",
    "\n",
    "\n",
    "l1=[22,400.5,'vansh',True,[44,66]]\n",
    "l1.extend([56,\"a\",33])\n",
    "\n",
    "l1"
   ]
  },
  {
   "cell_type": "code",
   "execution_count": 15,
   "id": "bb606c9f",
   "metadata": {},
   "outputs": [
    {
     "name": "stdout",
     "output_type": "stream",
     "text": [
      "990\n"
     ]
    },
    {
     "data": {
      "text/plain": [
       "{11, 22, 45, 46, 67, 990}"
      ]
     },
     "execution_count": 15,
     "metadata": {},
     "output_type": "execute_result"
    }
   ],
   "source": [
    "#5)Write a Python function to get the largest number, smallest num and sum \n",
    "#of all from a list.\n",
    "\n",
    "#largest number\n",
    "\n",
    "\n",
    "l1={11,22,45,46,67,990}\n",
    "print(max(l1))\n",
    "\n",
    "l1"
   ]
  },
  {
   "cell_type": "code",
   "execution_count": 16,
   "id": "c86df975",
   "metadata": {},
   "outputs": [
    {
     "name": "stdout",
     "output_type": "stream",
     "text": [
      "11\n"
     ]
    }
   ],
   "source": [
    "#smallest number\n",
    "\n",
    "numer=[11,22,45,46,67,990]\n",
    "p=min(numer)\n",
    "print(p)\n"
   ]
  },
  {
   "cell_type": "code",
   "execution_count": 17,
   "id": "652df3c0",
   "metadata": {},
   "outputs": [],
   "source": [
    "#6) comper method\n",
    "\n",
    "l1=[1,2,3,4,5]\n",
    "l2=[1,2,3,4,6]\n",
    "\n",
    "if l1==l2:\n",
    "    (True)\n",
    "else:\n",
    "    (False)\n"
   ]
  },
  {
   "cell_type": "code",
   "execution_count": 18,
   "id": "84a05d56",
   "metadata": {},
   "outputs": [
    {
     "data": {
      "text/plain": [
       "3"
      ]
     },
     "execution_count": 18,
     "metadata": {},
     "output_type": "execute_result"
    }
   ],
   "source": [
    "#7)Write a Python program to count the number of strings where the string \n",
    "#length is 2 or more and the first and last character are same from a given \n",
    "#list of strings. \n",
    "words= ['abc','xyz','aba','1221','343']\n",
    "count=0\n",
    "for word in words:\n",
    "    if len(word)>1 and word[0]==word[-1]:\n",
    "        count+=1\n",
    "count"
   ]
  },
  {
   "cell_type": "code",
   "execution_count": 19,
   "id": "54c9ea28",
   "metadata": {},
   "outputs": [
    {
     "name": "stdout",
     "output_type": "stream",
     "text": [
      "{40, 10, 50, 20, 30}\n"
     ]
    }
   ],
   "source": [
    "#8)Write a Python program to remove duplicates from a list.\n",
    "\n",
    "l1=[10,20,20,30,50,40]\n",
    "\n",
    "l=set(l1)\n",
    "print(l)\n"
   ]
  },
  {
   "cell_type": "code",
   "execution_count": 20,
   "id": "194b79e0",
   "metadata": {},
   "outputs": [
    {
     "name": "stdout",
     "output_type": "stream",
     "text": [
      "the list is empty\n"
     ]
    }
   ],
   "source": [
    "#9) write a python program to chack a list is empty or not.\n",
    "\n",
    "list1=[]\n",
    "\n",
    "if len(list1)==0:\n",
    "    print(\"the list is empty\")\n",
    "else:\n",
    "    print(\"the list is not empty\")\n",
    "    \n"
   ]
  },
  {
   "cell_type": "code",
   "execution_count": 21,
   "id": "910e421a",
   "metadata": {},
   "outputs": [
    {
     "name": "stdout",
     "output_type": "stream",
     "text": [
      "false\n",
      "false\n",
      "false\n",
      "false\n",
      "false\n",
      "false\n",
      "false\n",
      "false\n",
      "false\n",
      "false\n",
      "false\n",
      "false\n",
      "false\n",
      "false\n",
      "false\n",
      "false\n",
      "false\n",
      "false\n",
      "false\n",
      "false\n",
      "true\n",
      "false\n",
      "false\n",
      "false\n",
      "false\n"
     ]
    }
   ],
   "source": [
    "#10)Write a Python function that takes two lists and returns true if they have \n",
    "#at least one common member.\n",
    "\n",
    "\n",
    "l1=[1,2,3,4,5]\n",
    "l2=[5,6,7,8,9]\n",
    "for i in l1:\n",
    "    for j in l2:\n",
    "        if(i==j):\n",
    "            print(\"true\")\n",
    "        else:\n",
    "            print(\"false\")"
   ]
  },
  {
   "cell_type": "code",
   "execution_count": 22,
   "id": "060664a9",
   "metadata": {},
   "outputs": [
    {
     "data": {
      "text/plain": [
       "[1,\n",
       " 4,\n",
       " 9,\n",
       " 16,\n",
       " 25,\n",
       " 6,\n",
       " 7,\n",
       " 8,\n",
       " 9,\n",
       " 10,\n",
       " 11,\n",
       " 12,\n",
       " 13,\n",
       " 14,\n",
       " 15,\n",
       " 16,\n",
       " 17,\n",
       " 18,\n",
       " 19,\n",
       " 20,\n",
       " 21,\n",
       " 22,\n",
       " 23,\n",
       " 24,\n",
       " 25,\n",
       " 676,\n",
       " 729,\n",
       " 784,\n",
       " 841,\n",
       " 900]"
      ]
     },
     "execution_count": 22,
     "metadata": {},
     "output_type": "execute_result"
    }
   ],
   "source": [
    "#12)Write a Python program to generate and print a list of first and last 5 \n",
    "#elements where the values are square of numbers between 1 and 30.\n",
    "\n",
    "#1to6\n",
    "#6to26\n",
    "#26to31\n",
    "\n",
    "list1=[]\n",
    "for i in range(1,6):\n",
    "    list1+=[i**2]\n",
    "    \n",
    "for i in range(6,26):\n",
    "    list1+=[i]\n",
    "    \n",
    "for i in range(26,31):\n",
    "    list1+=[i**2]\n",
    "    \n",
    "\n",
    "list1\n"
   ]
  },
  {
   "cell_type": "code",
   "execution_count": 23,
   "id": "beee348f",
   "metadata": {},
   "outputs": [
    {
     "ename": "TypeError",
     "evalue": "'str' object is not callable",
     "output_type": "error",
     "traceback": [
      "\u001b[1;31m---------------------------------------------------------------------------\u001b[0m",
      "\u001b[1;31mTypeError\u001b[0m                                 Traceback (most recent call last)",
      "Cell \u001b[1;32mIn[23], line 9\u001b[0m\n\u001b[0;32m      6\u001b[0m     \u001b[38;5;28;01mif\u001b[39;00m l\u001b[38;5;241m.\u001b[39mcount(i)\u001b[38;5;241m>\u001b[39m\u001b[38;5;241m1\u001b[39m:\n\u001b[0;32m      7\u001b[0m         l\u001b[38;5;241m.\u001b[39mremove(i)\n\u001b[1;32m----> 9\u001b[0m f\u001b[38;5;241m=\u001b[39m\u001b[38;5;28mtuple\u001b[39m(l)\n\u001b[0;32m     11\u001b[0m f\n",
      "\u001b[1;31mTypeError\u001b[0m: 'str' object is not callable"
     ]
    }
   ],
   "source": [
    "#13)Write a Python function that takes a list and returns a new list with unique elements of the first list.\n",
    "\n",
    "f=[1,2,3,2,4,5,6,5]\n",
    "l=list(f)\n",
    "for i in l:\n",
    "    if l.count(i)>1:\n",
    "        l.remove(i)\n",
    "        \n",
    "f=tuple(l)\n",
    "\n",
    "f"
   ]
  },
  {
   "cell_type": "code",
   "execution_count": null,
   "id": "990cbc89",
   "metadata": {},
   "outputs": [],
   "source": [
    "#14)Write a Python program to convert a list of characters into a string.\n",
    "\n",
    "list1=('v','a','n','s','h')\n",
    "list2=''.join(list1)\n",
    "list2\n"
   ]
  },
  {
   "cell_type": "code",
   "execution_count": null,
   "id": "fc101629",
   "metadata": {},
   "outputs": [],
   "source": [
    "#15)Write a Python program to select an item randomly from a list.\n",
    "\n",
    "import random\n",
    "color_list = ['Red', 'Blue', 'Green', 'White', 'Black']\n",
    "print(random.choice(color_list))"
   ]
  },
  {
   "cell_type": "code",
   "execution_count": null,
   "id": "e528f2b4",
   "metadata": {},
   "outputs": [],
   "source": [
    "#16)Write a Python program to find the second smallest number in a list.\n",
    "# Python prog to illustrate the following in a list\n",
    "def find_len(list1):\n",
    "\tlength = len(list1)\n",
    "\tlist1.sort()\n",
    "\tprint(\"Largest element is:\", list1[length-1])\n",
    "\tprint(\"Smallest element is:\", list1[0])\n",
    "\tprint(\"Second Largest element is:\", list1[length-2])\n",
    "\tprint(\"Second Smallest element is:\", list1[1])\n",
    "\n",
    "# Driver Code\n",
    "list1=[12, 45, 2, 41, 31, 10, 8, 6, 4]\n",
    "Largest = find_len(list1)\n",
    "\n"
   ]
  },
  {
   "cell_type": "code",
   "execution_count": null,
   "id": "d12e391f",
   "metadata": {},
   "outputs": [],
   "source": [
    "#17)Write a Python program to get unique values from a list.\n",
    "\n",
    "f=(10,20,30,20,40,50,60,50)\n",
    "l=list(f)\n",
    "for i in  l:\n",
    "    if l.count(i)>1:\n",
    "        l.remove(i)\n",
    "        \n",
    "f=tuple(l)\n",
    "print(f)"
   ]
  },
  {
   "cell_type": "code",
   "execution_count": null,
   "id": "da7a87af",
   "metadata": {},
   "outputs": [],
   "source": [
    "#18)Write a Python program to check whether a list contains a sub list.\n",
    "\n",
    "def is_Sublist(l, s):\n",
    "    sub_set = False\n",
    "    if s == []:\n",
    "        sub_set = True\n",
    "    elif s == l:\n",
    "        sub_set = True\n",
    "    elif len(s) > len(l):\n",
    "        sub_set = False\n",
    "\n",
    "    else:\n",
    "        for i in range(len(l)):\n",
    "            if l[i] == s[0]:\n",
    "                n = 1\n",
    "                while (n < len(s)) and (l[i+n] == s[n]):\n",
    "                        n += 1\n",
    "                        if n == len(s):\n",
    "                            sub_set = True\n",
    "                            \n",
    "    return sub_set\n",
    "\n",
    "l = [1, 2, 3, 4, 5]\n",
    "s = [2, 3]\n",
    "print(is_sublist(l, s))\n",
    "\n",
    "\n",
    "l = ['a', 'b', 'c', 'd']\n",
    "s = ['b', 'c', 'e']\n",
    "print(is_sublist(s, l)) "
   ]
  },
  {
   "cell_type": "code",
   "execution_count": null,
   "id": "0766f2f2",
   "metadata": {},
   "outputs": [],
   "source": [
    "list1=[1,2,3,4,4,5]\n",
    "flag=False\n",
    "for i in list1:\n",
    "    print(type(i))\n",
    "    if type(i) is list:\n",
    "        flag=True\n",
    "if flag:\n",
    "    print(\"List is there in list\")\n",
    "else:\n",
    "    print(\"Not exist\")\n",
    "    "
   ]
  },
  {
   "cell_type": "code",
   "execution_count": null,
   "id": "d3564bdb",
   "metadata": {},
   "outputs": [],
   "source": [
    "a = (1,45,24,2,4)\n",
    "\n",
    "\n",
    "print(average(a))"
   ]
  },
  {
   "cell_type": "code",
   "execution_count": null,
   "id": "abdbd2ef",
   "metadata": {},
   "outputs": [],
   "source": []
  },
  {
   "cell_type": "code",
   "execution_count": null,
   "id": "41ef5021",
   "metadata": {},
   "outputs": [],
   "source": [
    "#19)Write a Python program to split a list into different variables.\n",
    "\n",
    "color=[(\"black\"),(\"blue\"),(\"red\",\"orenge\")]\n",
    "var1,var2,var3=color\n",
    "print(var1)\n",
    "print(var2)\n",
    "print(var3)"
   ]
  },
  {
   "cell_type": "code",
   "execution_count": null,
   "id": "b1707f06",
   "metadata": {},
   "outputs": [],
   "source": []
  },
  {
   "cell_type": "code",
   "execution_count": null,
   "id": "093e2123",
   "metadata": {},
   "outputs": [],
   "source": [
    "#20)What is tuple? Difference between list and tuple.\n",
    "\n",
    "#->tuple are multiple items in a singal variable in one store.\n",
    "#->tuple and kry differnce of key and tuple are immmuatable while list is mutable.\n"
   ]
  },
  {
   "cell_type": "code",
   "execution_count": null,
   "id": "ef906ed4",
   "metadata": {},
   "outputs": [],
   "source": [
    "#21)Write a Python program to create a tuple with different data types.\n",
    "\n",
    "tuple1=tuple((\"apple\",\"smit\",\"parth\",33,66))\n",
    "print(tuple1)\n",
    "list1=[12,'python',67]\n",
    "print(tuple(list1))"
   ]
  },
  {
   "cell_type": "code",
   "execution_count": null,
   "id": "c3b45ece",
   "metadata": {},
   "outputs": [],
   "source": [
    "#21)Write a Python program to create a tuple with numbers.\n",
    "\n",
    "t1=33,5,66,34,88\n",
    "print(t1)"
   ]
  },
  {
   "cell_type": "code",
   "execution_count": null,
   "id": "66b30080",
   "metadata": {},
   "outputs": [],
   "source": [
    "#22)Write a Python program to convert a tuple to a string.\n",
    "\n",
    "tuple1=['v','a','n','s','h','k','a','n','a','n','i'] \n",
    "str1= ''.join(tuple1)\n",
    "print(str1)"
   ]
  },
  {
   "cell_type": "code",
   "execution_count": null,
   "id": "c5e8b1ad",
   "metadata": {},
   "outputs": [],
   "source": [
    "#23)Write a Python program to check whether an element exists within a tuple.\n",
    "\n",
    "tuple=(\"smit\",\"python\",\"66\",\"p\")\n",
    "print(\"smit\"in tuple)\n",
    "print(\"parth\" in tuple)\n"
   ]
  },
  {
   "cell_type": "code",
   "execution_count": null,
   "id": "ebb073e8",
   "metadata": {},
   "outputs": [],
   "source": [
    "#24)Write a Python program to find the length of a tuple.\n",
    "\n",
    "tuple=\"vanshkanani\"\n",
    "count=0\n",
    "while tuple[count:]:\n",
    "    count=count+1\n",
    "print(count)\n"
   ]
  },
  {
   "cell_type": "code",
   "execution_count": null,
   "id": "5db3615e",
   "metadata": {},
   "outputs": [],
   "source": [
    "#25)Write a Python program to convert a list to a tuple.\n",
    "\n",
    "list1=[5,22,56,778,999]\n",
    "print(list1)\n",
    "\n",
    "tuple1=tuple(list1)\n",
    "print(tuple1)\n"
   ]
  },
  {
   "cell_type": "code",
   "execution_count": null,
   "id": "02974235",
   "metadata": {},
   "outputs": [],
   "source": [
    "#26)Write a Python program to reverse a tuple.\n",
    "\n",
    "tuple1= (\"1\",\"22\",\"333\",\"444\",\"555\",\"7777\")\n",
    "tuple2=reversed(tuple1)\n",
    "print(tuple(tuple2))\n"
   ]
  },
  {
   "cell_type": "code",
   "execution_count": null,
   "id": "eeedea7d",
   "metadata": {},
   "outputs": [],
   "source": [
    "#27)Write a Python program to replace last value of tuples in a list.\n",
    "\n",
    "l = [(10, 20, 40), (40, 50, 60), (70, 80, 90)]\n",
    "print([f[:-1] + (100,) for f in l ])"
   ]
  }
 ],
 "metadata": {
  "kernelspec": {
   "display_name": "Python 3 (ipykernel)",
   "language": "python",
   "name": "python3"
  },
  "language_info": {
   "codemirror_mode": {
    "name": "ipython",
    "version": 3
   },
   "file_extension": ".py",
   "mimetype": "text/x-python",
   "name": "python",
   "nbconvert_exporter": "python",
   "pygments_lexer": "ipython3",
   "version": "3.11.4"
  }
 },
 "nbformat": 4,
 "nbformat_minor": 5
}
